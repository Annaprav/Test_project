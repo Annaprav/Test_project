{
 "cells": [
  {
   "cell_type": "code",
   "execution_count": 5,
   "metadata": {},
   "outputs": [],
   "source": [
    "import numpy as np\n",
    "import pandas as pd\n",
    "import matplotlib.pyplot as plt\n",
    "import seaborn as sns\n",
    "from scipy.stats import mannwhitneyu"
   ]
  },
  {
   "cell_type": "code",
   "execution_count": 8,
   "metadata": {},
   "outputs": [
    {
     "name": "stderr",
     "output_type": "stream",
     "text": [
      "<>:2: SyntaxWarning: invalid escape sequence '\\,'\n",
      "<>:2: SyntaxWarning: invalid escape sequence '\\,'\n",
      "/var/folders/v9/v_nbgkn13pz7tqtfgystm4dh0000gn/T/ipykernel_53363/1492975695.py:2: SyntaxWarning: invalid escape sequence '\\,'\n",
      "  data = pd.read_csv(r\"М.Тех_Данные_к_ТЗ_DS.csv\", encoding = 'cp1251', sep='\\,')\n",
      "/var/folders/v9/v_nbgkn13pz7tqtfgystm4dh0000gn/T/ipykernel_53363/1492975695.py:2: ParserWarning: Falling back to the 'python' engine because the 'c' engine does not support regex separators (separators > 1 char and different from '\\s+' are interpreted as regex); you can avoid this warning by specifying engine='python'.\n",
      "  data = pd.read_csv(r\"М.Тех_Данные_к_ТЗ_DS.csv\", encoding = 'cp1251', sep='\\,')\n"
     ]
    },
    {
     "data": {
      "text/html": [
       "<div>\n",
       "<style scoped>\n",
       "    .dataframe tbody tr th:only-of-type {\n",
       "        vertical-align: middle;\n",
       "    }\n",
       "\n",
       "    .dataframe tbody tr th {\n",
       "        vertical-align: top;\n",
       "    }\n",
       "\n",
       "    .dataframe thead th {\n",
       "        text-align: right;\n",
       "    }\n",
       "</style>\n",
       "<table border=\"1\" class=\"dataframe\">\n",
       "  <thead>\n",
       "    <tr style=\"text-align: right;\">\n",
       "      <th></th>\n",
       "      <th>\"Количество больничных дней</th>\n",
       "      <th>\"\"Возраст\"\"</th>\n",
       "      <th>\"\"Пол\"\"\"</th>\n",
       "    </tr>\n",
       "  </thead>\n",
       "  <tbody>\n",
       "    <tr>\n",
       "      <th>0</th>\n",
       "      <td>\"5</td>\n",
       "      <td>39</td>\n",
       "      <td>\"\"Ж\"\"\"</td>\n",
       "    </tr>\n",
       "    <tr>\n",
       "      <th>1</th>\n",
       "      <td>\"4</td>\n",
       "      <td>54</td>\n",
       "      <td>\"\"М\"\"\"</td>\n",
       "    </tr>\n",
       "    <tr>\n",
       "      <th>2</th>\n",
       "      <td>\"4</td>\n",
       "      <td>26</td>\n",
       "      <td>\"\"М\"\"\"</td>\n",
       "    </tr>\n",
       "    <tr>\n",
       "      <th>3</th>\n",
       "      <td>\"5</td>\n",
       "      <td>42</td>\n",
       "      <td>\"\"М\"\"\"</td>\n",
       "    </tr>\n",
       "    <tr>\n",
       "      <th>4</th>\n",
       "      <td>\"4</td>\n",
       "      <td>29</td>\n",
       "      <td>\"\"М\"\"\"</td>\n",
       "    </tr>\n",
       "  </tbody>\n",
       "</table>\n",
       "</div>"
      ],
      "text/plain": [
       "  \"Количество больничных дней  \"\"Возраст\"\" \"\"Пол\"\"\"\n",
       "0                          \"5           39   \"\"Ж\"\"\"\n",
       "1                          \"4           54   \"\"М\"\"\"\n",
       "2                          \"4           26   \"\"М\"\"\"\n",
       "3                          \"5           42   \"\"М\"\"\"\n",
       "4                          \"4           29   \"\"М\"\"\""
      ]
     },
     "execution_count": 8,
     "metadata": {},
     "output_type": "execute_result"
    }
   ],
   "source": [
    "#Чтение данных их файла\n",
    "data = pd.read_csv(r\"М.Тех_Данные_к_ТЗ_DS.csv\", encoding = 'cp1251', sep='\\,')\n",
    "data.head()"
   ]
  },
  {
   "cell_type": "code",
   "execution_count": 9,
   "metadata": {},
   "outputs": [
    {
     "name": "stderr",
     "output_type": "stream",
     "text": [
      "/var/folders/v9/v_nbgkn13pz7tqtfgystm4dh0000gn/T/ipykernel_53363/902126178.py:3: FutureWarning: DataFrame.applymap has been deprecated. Use DataFrame.map instead.\n",
      "  data= data.applymap(lambda x: str(x).replace('\\\"', ''))\n"
     ]
    },
    {
     "data": {
      "text/html": [
       "<div>\n",
       "<style scoped>\n",
       "    .dataframe tbody tr th:only-of-type {\n",
       "        vertical-align: middle;\n",
       "    }\n",
       "\n",
       "    .dataframe tbody tr th {\n",
       "        vertical-align: top;\n",
       "    }\n",
       "\n",
       "    .dataframe thead th {\n",
       "        text-align: right;\n",
       "    }\n",
       "</style>\n",
       "<table border=\"1\" class=\"dataframe\">\n",
       "  <thead>\n",
       "    <tr style=\"text-align: right;\">\n",
       "      <th></th>\n",
       "      <th>Количество больничных дней</th>\n",
       "      <th>Возраст</th>\n",
       "      <th>Пол</th>\n",
       "    </tr>\n",
       "  </thead>\n",
       "  <tbody>\n",
       "    <tr>\n",
       "      <th>0</th>\n",
       "      <td>5</td>\n",
       "      <td>39</td>\n",
       "      <td>Ж</td>\n",
       "    </tr>\n",
       "    <tr>\n",
       "      <th>1</th>\n",
       "      <td>4</td>\n",
       "      <td>54</td>\n",
       "      <td>М</td>\n",
       "    </tr>\n",
       "    <tr>\n",
       "      <th>2</th>\n",
       "      <td>4</td>\n",
       "      <td>26</td>\n",
       "      <td>М</td>\n",
       "    </tr>\n",
       "    <tr>\n",
       "      <th>3</th>\n",
       "      <td>5</td>\n",
       "      <td>42</td>\n",
       "      <td>М</td>\n",
       "    </tr>\n",
       "    <tr>\n",
       "      <th>4</th>\n",
       "      <td>4</td>\n",
       "      <td>29</td>\n",
       "      <td>М</td>\n",
       "    </tr>\n",
       "  </tbody>\n",
       "</table>\n",
       "</div>"
      ],
      "text/plain": [
       "   Количество больничных дней  Возраст Пол\n",
       "0                           5       39   Ж\n",
       "1                           4       54   М\n",
       "2                           4       26   М\n",
       "3                           5       42   М\n",
       "4                           4       29   М"
      ]
     },
     "execution_count": 9,
     "metadata": {},
     "output_type": "execute_result"
    }
   ],
   "source": [
    "#Преобразование данных - удаление \"\n",
    "data.columns = data.columns.str.replace('\\\"','')\n",
    "data= data.applymap(lambda x: str(x).replace('\\\"', ''))\n",
    "#Преобразование данных\n",
    "data['Количество больничных дней'] = data['Количество больничных дней'].astype('int')\n",
    "data['Возраст'] = data['Возраст'].astype('int')\n",
    "data.head()"
   ]
  },
  {
   "cell_type": "code",
   "execution_count": 10,
   "metadata": {},
   "outputs": [
    {
     "name": "stdout",
     "output_type": "stream",
     "text": [
      "<class 'pandas.core.frame.DataFrame'>\n",
      "RangeIndex: 237 entries, 0 to 236\n",
      "Data columns (total 3 columns):\n",
      " #   Column                      Non-Null Count  Dtype \n",
      "---  ------                      --------------  ----- \n",
      " 0   Количество больничных дней  237 non-null    int64 \n",
      " 1   Возраст                     237 non-null    int64 \n",
      " 2   Пол                         237 non-null    object\n",
      "dtypes: int64(2), object(1)\n",
      "memory usage: 5.7+ KB\n"
     ]
    }
   ],
   "source": [
    "#Информция о типах данных столбцов\n",
    "data.info()"
   ]
  },
  {
   "cell_type": "code",
   "execution_count": 16,
   "metadata": {},
   "outputs": [],
   "source": [
    "# Визуализация графиков и описательной статистики\n",
    "def distplot_stat(x,y, title_x, title_y):\n",
    "    # Визуализация графиков\n",
    "    fig, axes = plt.subplots(nrows=1, ncols=2, figsize=(10, 4))\n",
    "\n",
    "    sns.histplot(x, kde=True, ax=axes[0])\n",
    "    axes[0].set_title(f'Распределение для {title_x}')\n",
    "    axes[0].set_xlabel('Values')\n",
    "    axes[0].set_ylabel('Frequency')\n",
    "\n",
    "\n",
    "    sns.distplot(y, kde=True, color='salmon', ax=axes[1])\n",
    "    axes[1].set_title(f'Распределение для {title_y}')\n",
    "    axes[1].set_xlabel('Values')\n",
    "    axes[1].set_ylabel('Frequency')\n",
    "\n",
    "\n",
    "    plt.tight_layout()\n",
    "    plt.show()\n",
    "\n",
    "    # Описательная статистика\n",
    "    print('Описательнпая статистика выборок:\\n')\n",
    "    print(f'{title_x}\\n',x.describe(),'\\n')\n",
    "    print(f'{title_y}\\n',y.describe())\n",
    "\n",
    "# Проведение U-теста и оценка статистической значимости\n",
    "def U_test(x,y,alpha):\n",
    "    # Проведение U-теста\n",
    "    statistic, p_value = mannwhitneyu(x, y)\n",
    "    print(f\"Статистика U: {statistic}\")\n",
    "    print(f\"P-значение: {p_value}\")\n",
    "\n",
    "    # Оценка статистической значимости\n",
    "    print(f'Уровень значимости: {alpha}')\n",
    "    if p_value < alpha:\n",
    "        print(\"Различие является статистически значимым - гипотеза принимается.\")\n",
    "    else:\n",
    "        print(\"Нет статистически значимого различия между выборками - гипотеза отвергается.\")\n"
   ]
  },
  {
   "cell_type": "markdown",
   "metadata": {},
   "source": [
    "## Гипотеза 1\n",
    "\n",
    "Мужчины пропускают в течение года более 2 рабочих дней (work_days) по болезни значимо чаще женщин."
   ]
  },
  {
   "cell_type": "code",
   "execution_count": 12,
   "metadata": {},
   "outputs": [],
   "source": [
    "# Выборки больничных дней для мужчин и женщин\n",
    "men = data[(data['Пол'] == 'М') & (data['Количество больничных дней'] > 2)]['Количество больничных дней']\n",
    "women = data[(data['Пол'] == 'Ж') & (data['Количество больничных дней'] > 2)]['Количество больничных дней']"
   ]
  },
  {
   "cell_type": "code",
   "execution_count": 17,
   "metadata": {},
   "outputs": [
    {
     "name": "stderr",
     "output_type": "stream",
     "text": [
      "/var/folders/v9/v_nbgkn13pz7tqtfgystm4dh0000gn/T/ipykernel_53363/2757483578.py:12: UserWarning: \n",
      "\n",
      "`distplot` is a deprecated function and will be removed in seaborn v0.14.0.\n",
      "\n",
      "Please adapt your code to use either `displot` (a figure-level function with\n",
      "similar flexibility) or `histplot` (an axes-level function for histograms).\n",
      "\n",
      "For a guide to updating your code to use the new functions, please see\n",
      "https://gist.github.com/mwaskom/de44147ed2974457ad6372750bbe5751\n",
      "\n",
      "  sns.distplot(y, kde=True, color='salmon', ax=axes[1])\n"
     ]
    },
    {
     "data": {
      "image/png": "[encoded data removed]",
      "text/plain": [
       "<Figure size 1000x400 with 2 Axes>"
      ]
     },
     "metadata": {},
     "output_type": "display_data"
    },
    {
     "name": "stdout",
     "output_type": "stream",
     "text": [
      "Описательнпая статистика выборок:\n",
      "\n",
      "Мужчины\n",
      " count    84.000000\n",
      "mean      4.333333\n",
      "std       1.475367\n",
      "min       3.000000\n",
      "25%       3.000000\n",
      "50%       4.000000\n",
      "75%       5.000000\n",
      "max       8.000000\n",
      "Name: Количество больничных дней, dtype: float64 \n",
      "\n",
      "Женщины\n",
      " count    67.000000\n",
      "mean      4.238806\n",
      "std       1.268375\n",
      "min       3.000000\n",
      "25%       3.000000\n",
      "50%       4.000000\n",
      "75%       5.000000\n",
      "max       8.000000\n",
      "Name: Количество больничных дней, dtype: float64\n"
     ]
    }
   ],
   "source": [
    "#Визуализация графиков и описательной статисики \n",
    "distplot_stat(x=men,y=women,title_x='Мужчины',title_y='Женщины')"
   ]
  },
  {
   "cell_type": "markdown",
   "metadata": {},
   "source": [
    "Распределения выборок для мужчин и женщин проявляют высокую степень схожести, характеризуясь аналогичными значениями, средними показателями и почти идентичными дисперсиями. Эта аналогия дополнительно подтверждается результатами описательной статистики.\n",
    "\n",
    "Тем не менее, важно отметить, что распределения обеих выборок оказываются малопохожими на нормальные. Исходя из этого, использование t-теста для независимых выборок не представляется оптимальным. Вместо этого, целесообразным выбором является применение U-критерия Манна-Уитни, который эффективен при работе с выборками, не подчиняющимися нормальному распределению.\n",
    "\n",
    "\n",
    "\n",
    "\n",
    "\n"
   ]
  },
  {
   "cell_type": "code",
   "execution_count": 49,
   "metadata": {},
   "outputs": [
    {
     "name": "stdout",
     "output_type": "stream",
     "text": [
      "Статистика U: 2829.0\n",
      "P-значение: 0.9548173130538878\n",
      "Уровень значимости: 0.05\n",
      "Нет статистически значимого различия между выборками - гипотеза отвергается.\n"
     ]
    }
   ],
   "source": [
    "# Проведение U-теста\n",
    "U_test(x=men,y=women,alpha=0.05)"
   ]
  },
  {
   "cell_type": "markdown",
   "metadata": {},
   "source": [
    "## Гипотеза 2\n",
    "\n",
    "Работники старше 35 лет (age) пропускают в течение года более 2 рабочих дней (work_days) по болезни значимо чаще своих более молодых коллег."
   ]
  },
  {
   "cell_type": "code",
   "execution_count": 50,
   "metadata": {},
   "outputs": [],
   "source": [
    "# Выборки больничных дней для старших (35+) и младших  (35-) сотрудников\n",
    "older = data[(data['Возраст'] > 35) & (data['Количество больничных дней'] > 2)]['Количество больничных дней']\n",
    "younger = data[(data['Возраст'] <= 35) & (data['Количество больничных дней'] > 2)]['Количество больничных дней']"
   ]
  },
  {
   "cell_type": "code",
   "execution_count": 51,
   "metadata": {},
   "outputs": [
    {
     "data": {
      "image/png": "[encoded data removed]",
      "text/plain": [
       "<Figure size 720x288 with 2 Axes>"
      ]
     },
     "metadata": {
      "needs_background": "light"
     },
     "output_type": "display_data"
    },
    {
     "name": "stdout",
     "output_type": "stream",
     "text": [
      "Описательнпая статистика выборок:\n",
      "\n",
      "35+\n",
      " count    115.000000\n",
      "mean       4.243478\n",
      "std        1.361058\n",
      "min        3.000000\n",
      "25%        3.000000\n",
      "50%        4.000000\n",
      "75%        5.000000\n",
      "max        8.000000\n",
      "Name: Количество больничных дней, dtype: float64 \n",
      "\n",
      "35-\n",
      " count    36.000000\n",
      "mean      4.444444\n",
      "std       1.462765\n",
      "min       3.000000\n",
      "25%       3.000000\n",
      "50%       4.000000\n",
      "75%       5.000000\n",
      "max       8.000000\n",
      "Name: Количество больничных дней, dtype: float64\n"
     ]
    }
   ],
   "source": [
    "# Визуализация графиков и описательной статисики \n",
    "distplot_stat(x=older,y=younger,title_x='35+',title_y='35-')"
   ]
  },
  {
   "cell_type": "markdown",
   "metadata": {},
   "source": [
    "Аналогично предыдущему случаю, выборки обладают схожими характеристиками, выраженными в сходстве распределений на одинаковых значениях, близких средних и дисперсиях. Кроме того, данные выборки не соответствуют нормальному распределению.\n",
    "\n",
    "Исходя из указанных обстоятельств, решено так же применить U-тест Манна-Уитни для проведения анализа, поскольку этот метод является более подходящим при работе с выборками, не подчиняющимися нормальному распределению."
   ]
  },
  {
   "cell_type": "code",
   "execution_count": 52,
   "metadata": {},
   "outputs": [
    {
     "name": "stdout",
     "output_type": "stream",
     "text": [
      "Статистика U: 1888.0\n",
      "P-значение: 0.408297183958816\n",
      "Уровень значимости: 0.05\n",
      "Нет статистически значимого различия между выборками - гипотеза отвергается.\n"
     ]
    }
   ],
   "source": [
    "# Проведение U-теста\n",
    "U_test(x=older,y=younger,alpha=0.05)"
   ]
  }
 ],
 "metadata": {
  "kernelspec": {
   "display_name": "base",
   "language": "python",
   "name": "python3"
  },
  "language_info": {
   "codemirror_mode": {
    "name": "ipython",
    "version": 3
   },
   "file_extension": ".py",
   "mimetype": "text/x-python",
   "name": "python",
   "nbconvert_exporter": "python",
   "pygments_lexer": "ipython3",
   "version": "3.12.1"
  }
 },
 "nbformat": 4,
 "nbformat_minor": 2
}
